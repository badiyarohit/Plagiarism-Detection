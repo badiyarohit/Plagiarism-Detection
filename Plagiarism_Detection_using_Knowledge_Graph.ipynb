{
 "cells": [
  {
   "cell_type": "markdown",
   "metadata": {},
   "source": [
    "# Importing Required Libraries"
   ]
  },
  {
   "cell_type": "code",
   "execution_count": 45,
   "metadata": {
    "colab": {},
    "colab_type": "code",
    "id": "E2uS-9_u7utP"
   },
   "outputs": [],
   "source": [
    "import pandas as pd \n",
    "import numpy as np\n",
    "import spacy\n",
    "import networkx as nx\n",
    "import matplotlib.pyplot as plt\n",
    "%matplotlib inline\n",
    "from spacy import displacy"
   ]
  },
  {
   "cell_type": "markdown",
   "metadata": {},
   "source": [
    "# loading spaCy and data extraction"
   ]
  },
  {
   "cell_type": "code",
   "execution_count": 46,
   "metadata": {
    "colab": {},
    "colab_type": "code",
    "id": "5-8BSuru7hQm"
   },
   "outputs": [],
   "source": [
    "nlp = spacy.load('en_core_web_lg')"
   ]
  },
  {
   "cell_type": "code",
   "execution_count": 47,
   "metadata": {},
   "outputs": [
    {
     "data": {
      "text/plain": [
       "['tok2vec', 'tagger', 'parser', 'attribute_ruler', 'lemmatizer', 'ner']"
      ]
     },
     "execution_count": 47,
     "metadata": {},
     "output_type": "execute_result"
    }
   ],
   "source": [
    "nlp.pipe_names"
   ]
  },
  {
   "cell_type": "code",
   "execution_count": 48,
   "metadata": {},
   "outputs": [
    {
     "name": "stdout",
     "output_type": "stream",
     "text": [
      "Enter the name of first document : 1.txt\n",
      "Enter the name of second document : 2.txt\n"
     ]
    }
   ],
   "source": [
    "input_doc1 = input(\"Enter the name of first document : \")\n",
    "input_doc2 = input(\"Enter the name of second document : \")"
   ]
  },
  {
   "cell_type": "code",
   "execution_count": 49,
   "metadata": {
    "colab": {
     "base_uri": "https://localhost:8080/",
     "height": 54
    },
    "colab_type": "code",
    "id": "r6ikFsyB8K8t",
    "outputId": "05439e2e-eb90-45e8-bd78-51c9fc9c4e9d",
    "scrolled": true
   },
   "outputs": [],
   "source": [
    "document1 = open(input_doc1, 'r')\n",
    "sentences1 = document1.read().split('.')[:-1]\n",
    "#print(\"----------Document_1----------\\n\")\n",
    "#print(sentences1)\n",
    "document2 = open(input_doc2, 'r')\n",
    "sentences2 = document2.read().split('.')[:-1]\n",
    "#print(\"\\n----------Document_2----------\\n\")\n",
    "#print(sentences2)"
   ]
  },
  {
   "cell_type": "code",
   "execution_count": 50,
   "metadata": {},
   "outputs": [],
   "source": [
    "#from scipy import spatial\n",
    "#cosine_similarity = lambda x, y: 1 - spatial.distance.cosine(x, y)"
   ]
  },
  {
   "cell_type": "markdown",
   "metadata": {},
   "source": [
    "# Analysis of Document1"
   ]
  },
  {
   "cell_type": "code",
   "execution_count": 51,
   "metadata": {},
   "outputs": [],
   "source": [
    "text1=\"\"\n",
    "for i in sentences1:\n",
    "    text1 = text1+i;\n",
    "#text1"
   ]
  },
  {
   "cell_type": "code",
   "execution_count": 52,
   "metadata": {},
   "outputs": [],
   "source": [
    "doc1 = nlp(text1)"
   ]
  },
  {
   "cell_type": "code",
   "execution_count": 53,
   "metadata": {},
   "outputs": [
    {
     "data": {
      "text/html": [
       "<span class=\"tex2jax_ignore\"><div class=\"entities\" style=\"line-height: 2.5; direction: ltr\">A good article (\n",
       "<mark class=\"entity\" style=\"background: #7aecec; padding: 0.45em 0.6em; margin: 0 0.25em; line-height: 1; border-radius: 0.35em;\">\n",
       "    GA\n",
       "    <span style=\"font-size: 0.8em; font-weight: bold; line-height: 1; border-radius: 0.35em; vertical-align: middle; margin-left: 0.5rem\">ORG</span>\n",
       "</mark>\n",
       ") is an article that meets a core set of editorial standards</div></span>"
      ],
      "text/plain": [
       "<IPython.core.display.HTML object>"
      ]
     },
     "metadata": {},
     "output_type": "display_data"
    }
   ],
   "source": [
    "displacy.render(doc1, style='ent', jupyter=True)"
   ]
  },
  {
   "cell_type": "code",
   "execution_count": 54,
   "metadata": {},
   "outputs": [],
   "source": [
    "#for token in doc1:\n",
    "#    print(\"{0}\\t{1}\\t{2}\\t{3}\\t{4}\\t{5}\\t{6}\\t{7}\".format(token.text,token.idx,token.lemma_,token.is_punct,token.is_space,token.shape_,token.pos_,token.tag_))"
   ]
  },
  {
   "cell_type": "code",
   "execution_count": null,
   "metadata": {},
   "outputs": [],
   "source": []
  },
  {
   "cell_type": "markdown",
   "metadata": {},
   "source": [
    "# Analysis of Document2"
   ]
  },
  {
   "cell_type": "code",
   "execution_count": 55,
   "metadata": {},
   "outputs": [],
   "source": [
    "text2=\"\"\n",
    "for i in sentences2:\n",
    "    text2 = text2+i;\n",
    "#text2"
   ]
  },
  {
   "cell_type": "code",
   "execution_count": 56,
   "metadata": {},
   "outputs": [],
   "source": [
    "doc2 = nlp(text2)"
   ]
  },
  {
   "cell_type": "code",
   "execution_count": 57,
   "metadata": {},
   "outputs": [
    {
     "data": {
      "text/html": [
       "<span class=\"tex2jax_ignore\"><div class=\"entities\" style=\"line-height: 2.5; direction: ltr\">A good article (\n",
       "<mark class=\"entity\" style=\"background: #7aecec; padding: 0.45em 0.6em; margin: 0 0.25em; line-height: 1; border-radius: 0.35em;\">\n",
       "    GA\n",
       "    <span style=\"font-size: 0.8em; font-weight: bold; line-height: 1; border-radius: 0.35em; vertical-align: middle; margin-left: 0.5rem\">ORG</span>\n",
       "</mark>\n",
       ") is an article that meets a core set of editorial standards</div></span>"
      ],
      "text/plain": [
       "<IPython.core.display.HTML object>"
      ]
     },
     "metadata": {},
     "output_type": "display_data"
    }
   ],
   "source": [
    "displacy.render(doc2, style='ent', jupyter=True)"
   ]
  },
  {
   "cell_type": "code",
   "execution_count": 58,
   "metadata": {},
   "outputs": [],
   "source": [
    "#for token in doc2:\n",
    "#    print(\"{0}\\t{1}\\t{2}\\t{3}\\t{4}\\t{5}\\t{6}\\t{7}\".format(token.text,token.idx,token.lemma_,token.is_punct,token.is_space,token.shape_,token.pos_,token.tag_))"
   ]
  },
  {
   "cell_type": "code",
   "execution_count": null,
   "metadata": {},
   "outputs": [],
   "source": []
  },
  {
   "cell_type": "markdown",
   "metadata": {},
   "source": [
    "# PD_Method"
   ]
  },
  {
   "cell_type": "code",
   "execution_count": 59,
   "metadata": {
    "colab": {},
    "colab_type": "code",
    "id": "XsJTkC8M-_Ti"
   },
   "outputs": [],
   "source": [
    "def isRelationCandidate(token):\n",
    "    deps = [\"ROOT\", \"adj\", \"attr\", \"agent\", \"amod\"]\n",
    "    return any(subs in token.dep_ for subs in deps)"
   ]
  },
  {
   "cell_type": "code",
   "execution_count": 60,
   "metadata": {
    "colab": {},
    "colab_type": "code",
    "id": "gru00co08CwA"
   },
   "outputs": [],
   "source": [
    "def source_target_relation_triple(sentence, k):\n",
    "    source = ''\n",
    "    target = ''\n",
    "    relation = ''\n",
    "    for token in sentence:\n",
    "        print(token.text, \"->\", token.dep_)\n",
    "        if token.dep_ != \"punct\":\n",
    "            if isRelationCandidate(token):\n",
    "                relation = relation + ' ' + token.lemma_\n",
    "            if \"subj\" in token.dep_:\n",
    "                source = source + ' ' + token.text\n",
    "            if \"obj\" in token.dep_:\n",
    "                target = target + ' ' + token.text\n",
    "    print(\"Triple \", k, \": Source:\", source, \", Relation:\", relation, \", Target:\", target)\n",
    "    \n",
    "    return (source.strip(), relation.strip(), target.strip())"
   ]
  },
  {
   "cell_type": "code",
   "execution_count": 61,
   "metadata": {
    "colab": {
     "base_uri": "https://localhost:8080/",
     "height": 1000
    },
    "colab_type": "code",
    "id": "D1hUO8SL8jfY",
    "outputId": "29d7df93-488f-44f7-b080-3302cb8ed0e7"
   },
   "outputs": [
    {
     "name": "stdout",
     "output_type": "stream",
     "text": [
      "---------------Document 1---------------\n",
      "Sentence 1 : A good article (GA) is an article that meets a core set of editorial standards\n",
      "A -> det\n",
      "good -> amod\n",
      "article -> nsubj\n",
      "( -> punct\n",
      "GA -> appos\n",
      ") -> punct\n",
      "is -> ROOT\n",
      "an -> det\n",
      "article -> attr\n",
      "that -> nsubj\n",
      "meets -> relcl\n",
      "a -> det\n",
      "core -> compound\n",
      "set -> dobj\n",
      "of -> prep\n",
      "editorial -> amod\n",
      "standards -> pobj\n",
      "Triple  1 : Source:  article that , Relation:  good be article editorial , Target:  set standards\n",
      "---------------Document 2---------------\n",
      "Sentence 1 : A good article (GA) is an article that meets a core set of editorial standards\n",
      "A -> det\n",
      "good -> amod\n",
      "article -> nsubj\n",
      "( -> punct\n",
      "GA -> appos\n",
      ") -> punct\n",
      "is -> ROOT\n",
      "an -> det\n",
      "article -> attr\n",
      "that -> nsubj\n",
      "meets -> relcl\n",
      "a -> det\n",
      "core -> compound\n",
      "set -> dobj\n",
      "of -> prep\n",
      "editorial -> amod\n",
      "standards -> pobj\n",
      "Triple  1 : Source:  article that , Relation:  good be article editorial , Target:  set standards\n"
     ]
    }
   ],
   "source": [
    "triples1 = []\n",
    "i = 1\n",
    "k = 1\n",
    "print( \"---------------Document 1---------------\" )\n",
    "for sentence in sentences1:\n",
    "    tokens = nlp(sentence)\n",
    "    print(\"Sentence\", i, \":\", tokens )\n",
    "    i = i + 1\n",
    "    triples1.append(source_target_relation_triple(tokens, k))\n",
    "    k = k +1\n",
    "\n",
    "triples2 = []\n",
    "j = 1\n",
    "k = 1\n",
    "print( \"---------------Document 2---------------\" )\n",
    "for sentence in sentences2:\n",
    "    tokens = nlp(sentence)\n",
    "    print(\"Sentence\", j, \":\", tokens )\n",
    "    j = j + 1;\n",
    "    triples2.append(source_target_relation_triple(tokens, k))\n",
    "    k = k + 1"
   ]
  },
  {
   "cell_type": "code",
   "execution_count": 62,
   "metadata": {
    "colab": {},
    "colab_type": "code",
    "id": "8pSe7CjJ4MF8"
   },
   "outputs": [],
   "source": [
    "def printGraph(triples):\n",
    "    G = nx.Graph()\n",
    "    for triple in triples:\n",
    "        G.add_node(triple[0])\n",
    "        G.add_node(triple[1])\n",
    "        G.add_node(triple[2])\n",
    "        G.add_edge(triple[0], triple[1])\n",
    "        G.add_edge(triple[1], triple[2])\n",
    "\n",
    "    pos = nx.spring_layout(G)\n",
    "    plt.figure(figsize=(14,14))\n",
    "    nx.draw(G, pos, edge_color='black', width=1, linewidths=1, node_size=500, node_color='green', alpha=0.9,\n",
    "            labels={node: node for node in G.nodes()})\n",
    "    plt.axis('off')\n",
    "    plt.show()"
   ]
  },
  {
   "cell_type": "code",
   "execution_count": 63,
   "metadata": {
    "colab": {
     "base_uri": "https://localhost:8080/",
     "height": 960
    },
    "colab_type": "code",
    "id": "DTUjBxDAzZD7",
    "outputId": "120c7574-8f3a-4ff3-e1bb-89b52b2684b0"
   },
   "outputs": [
    {
     "data": {
      "image/png": "[encoded data removed]",
      "text/plain": [
       "<Figure size 1008x1008 with 1 Axes>"
      ]
     },
     "metadata": {},
     "output_type": "display_data"
    }
   ],
   "source": [
    "printGraph(triples1)"
   ]
  },
  {
   "cell_type": "code",
   "execution_count": 64,
   "metadata": {
    "colab": {
     "base_uri": "https://localhost:8080/",
     "height": 960
    },
    "colab_type": "code",
    "id": "_-VH2mCAzfBj",
    "outputId": "7c56b857-63e3-4157-b4f0-c6df4c578ab9"
   },
   "outputs": [
    {
     "data": {
      "image/png": "[encoded data removed]",
      "text/plain": [
       "<Figure size 1008x1008 with 1 Axes>"
      ]
     },
     "metadata": {},
     "output_type": "display_data"
    }
   ],
   "source": [
    "printGraph(triples2)"
   ]
  },
  {
   "cell_type": "code",
   "execution_count": 65,
   "metadata": {
    "colab": {},
    "colab_type": "code",
    "id": "6HcAj7V6roER"
   },
   "outputs": [],
   "source": [
    "arr1 = \"\"\n",
    "for i in range(0, len(triples1)):\n",
    "  arr1 += triples1[i][0]\n",
    "  arr1 += triples1[i][1]\n",
    "  arr1 += triples1[i][2]\n",
    "\n",
    "arr2 = \"\"\n",
    "for i in range(0, len(triples2)):\n",
    "  arr2 += triples2[i][0]\n",
    "  arr2 += triples2[i][1]\n",
    "  arr2 += triples2[i][2]"
   ]
  },
  {
   "cell_type": "code",
   "execution_count": 66,
   "metadata": {
    "colab": {
     "base_uri": "https://localhost:8080/",
     "height": 34
    },
    "colab_type": "code",
    "id": "nuvk0PcSrpxU",
    "outputId": "09de20d6-8411-4e24-b859-31e971d894d7"
   },
   "outputs": [
    {
     "name": "stdout",
     "output_type": "stream",
     "text": [
      "100.000\n"
     ]
    }
   ],
   "source": [
    "from sklearn.feature_extraction.text import TfidfVectorizer\n",
    "from sklearn.metrics.pairwise import cosine_similarity\n",
    "tfidf_vectorizer = TfidfVectorizer()\n",
    "tfidf_matrix = tfidf_vectorizer.fit_transform([arr1,arr2])\n",
    "similar = cosine_similarity(tfidf_matrix[0], tfidf_matrix[1])\n",
    "print('%.3f'%(similar*100))"
   ]
  },
  {
   "cell_type": "code",
   "execution_count": null,
   "metadata": {},
   "outputs": [],
   "source": []
  }
 ],
 "metadata": {
  "colab": {
   "collapsed_sections": [],
   "name": "Plagiarism_Detector_Through_Knowledge_Graph.ipynb",
   "provenance": []
  },
  "kernelspec": {
   "display_name": "Python 3 (ipykernel)",
   "language": "python",
   "name": "python3"
  },
  "language_info": {
   "codemirror_mode": {
    "name": "ipython",
    "version": 3
   },
   "file_extension": ".py",
   "mimetype": "text/x-python",
   "name": "python",
   "nbconvert_exporter": "python",
   "pygments_lexer": "ipython3",
   "version": "3.9.7"
  }
 },
 "nbformat": 4,
 "nbformat_minor": 1
}
